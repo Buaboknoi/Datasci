{
 "cells": [
  {
   "cell_type": "markdown",
   "id": "94063462-e469-42f2-9130-3f0e808975bb",
   "metadata": {},
   "source": [
    "**Exercise 2: Create markdown cell with title of the notebook**\n",
    "Create a markdown cell with the title Data Science Tools and Ecosystem using H1 style heading.\n",
    "\n",
    "# Data Science Tools and Ecosystem\n"
   ]
  },
  {
   "cell_type": "markdown",
   "id": "2c5a3c5f-a62d-45d3-bd3f-b41b23bd8b7e",
   "metadata": {},
   "source": [
    "**Exercise 3 - Create a markdown cell for an introduction**\n",
    "\n",
    "Write an introductory sentence about the notebook such as the follows:\n",
    "\n",
    "In this notebook, Data Science Tools and Ecosystem are summarized.\n",
    "**Objectives**\n",
    "- List popular languages for Data Science\n",
    "- List the development environment open source tools used in data science\n",
    "- Use Github"
   ]
  },
  {
   "cell_type": "markdown",
   "id": "1f582839-46a9-4710-b16b-085035057d12",
   "metadata": {},
   "source": [
    "**Exercise 4 - Create a markdown cell to list data science languages**\n",
    "\n",
    "Start the cell with an overview line such as:\n",
    "\n",
    "Some of the popular languages that Data Scientists use are:\n",
    "Then create an ordered list (i.e. numbered) listing 3 (or more) commonly used languages for data science.\n",
    "\n",
    "Some of the popular languages that Data Scientists use are:\n",
    "1. Python\n",
    "2. SQL\n",
    "3. R"
   ]
  },
  {
   "cell_type": "markdown",
   "id": "c712a177-ce9f-4f69-bb80-96e496ae3bda",
   "metadata": {},
   "source": [
    "**Exercise 5 - Create a markdown cell to list data science libraries**\n",
    "\n",
    "Add an overview line to the cell like:\n",
    "\n",
    "Some of the commonly used libraries used by Data Scientists include:\n",
    "Below this line add an ordered list listing 3 (or more) commonly used libraries in data science.\n",
    "\n",
    "Some of the commonly used libraries used by Data Scientists include:\n",
    "1. Pandas (Python)\n",
    "2. NumPy (Python)\n",
    "3. Seabon (Python)\n",
    "4. ggplot (R)"
   ]
  },
  {
   "cell_type": "markdown",
   "id": "1e7183b6-3898-41ff-bbe4-fca1ab3ad8b6",
   "metadata": {},
   "source": [
    "**Exercise 6 - Create a markdown cell with a table of Data Science tools**\n",
    "\n",
    "Create a single column table in this cell with the first row containing the header Data Science Tools. The subsequent three rows in the table should indicate three development environment open source tools used in data science.\n",
    "|Data Science Tools|\n",
    "-------------------\n",
    "|Jupyter Notebook|\n",
    "|R Studio|\n",
    "|Apache Zeppelin|\n",
    "\n",
    "\n"
   ]
  },
  {
   "cell_type": "markdown",
   "id": "d2851f0c-b811-4c0a-b3a5-585f0d937354",
   "metadata": {},
   "source": [
    "**Exercise 7 - Create a markdown cell introducing arithmetic expression examples**\n",
    "\n",
    "Add a line in this cell with H3 style heading with text like:\n",
    "\n",
    "### Below are a few examples of evaluating arithmetic expressions in Python."
   ]
  },
  {
   "cell_type": "markdown",
   "id": "286f9247-28b1-4979-875d-e905c0ee4080",
   "metadata": {
    "tags": []
   },
   "source": [
    "**Exercise 8 - Create a code cell to multiply and add numbers**\n",
    "\n",
    "In this code cell evaluate the expression (3*4)+5.\n",
    "Insert a comment line before the expression to explain the operation e.g.  This a simple arithmetic expression to mutiply then add integers.\n",
    "Then execute the cell to ensure the expression returns the expected output of 17."
   ]
  },
  {
   "cell_type": "code",
   "execution_count": 4,
   "id": "2e223526-82ca-4c05-a89e-f67f9ded0afe",
   "metadata": {
    "tags": []
   },
   "outputs": [
    {
     "data": {
      "text/plain": [
       "17"
      ]
     },
     "execution_count": 4,
     "metadata": {},
     "output_type": "execute_result"
    }
   ],
   "source": [
    "(3*4)+5\n",
    "# This a simple arithmetic expression to mutiply then add integers."
   ]
  },
  {
   "cell_type": "markdown",
   "id": "e221aac9-4f89-4976-a911-ed25d5ea9f72",
   "metadata": {},
   "source": [
    "**Exercise 9 - Create a code cell to convert minutes to hours**\n",
    "\n",
    "In this code cell write an expression that converts 200 minutes into hours.\n",
    "Insert a comment line before the expression to explain the operation e.g.  This will convert 200 minutes to hours by diving by 60.\n",
    "Run the cell to evaluate the expression."
   ]
  },
  {
   "cell_type": "code",
   "execution_count": 5,
   "id": "1c3c5a5a-41cb-4e92-a134-d0cdae3179d3",
   "metadata": {
    "tags": []
   },
   "outputs": [
    {
     "data": {
      "text/plain": [
       "3.3333333333333335"
      ]
     },
     "execution_count": 5,
     "metadata": {},
     "output_type": "execute_result"
    }
   ],
   "source": [
    "200/60\n",
    "# This will convert 200 minutes to hours by diving by 60"
   ]
  },
  {
   "cell_type": "markdown",
   "id": "fe0fa937-7d89-4c94-8dd1-4b0d753b98a8",
   "metadata": {},
   "source": [
    "**Exercise 10 - Insert a markdown cell to list Objectives**\n",
    "\n",
    "Below the introduction cell created in Exercise 3, insert a new markdown cell to list the objectives that this notebook covered (i.e. some of the key takeaways from the course). In this new cell start with an introductory line titled: Objectives: in bold font. Then using an unordered list (bullets) indicate 3 to 5 items covered in this notebook, such as List popular languages for Data Science."
   ]
  },
  {
   "cell_type": "markdown",
   "id": "b76802a8-65d6-4f59-ac32-5d879b80b28c",
   "metadata": {},
   "source": [
    "**Exercise 11 - Create a markdown cell to indicate the Author's name**\n",
    "\n",
    "In this markdown cell markdown cell include the following text Author in H2 style heading. Include your name as regular text below the word Author\n",
    "## Author\n",
    "Thitiwan Meekusol"
   ]
  },
  {
   "cell_type": "markdown",
   "id": "63913ee0-668e-4b7f-a540-670c7faa4015",
   "metadata": {},
   "source": [
    "**Exercise 12 - Share your notebook through GitHub**\n",
    "\n",
    "Upload your notebook to a public respository on GitHub.\n",
    "\n",
    "Note : Please keep the GitHub repo link of the notebook handy.\n",
    "You will need to submit this link as a part of the assignment evaluation."
   ]
  }
 ],
 "metadata": {
  "kernelspec": {
   "display_name": "Python",
   "language": "python",
   "name": "conda-env-python-py"
  },
  "language_info": {
   "codemirror_mode": {
    "name": "ipython",
    "version": 3
   },
   "file_extension": ".py",
   "mimetype": "text/x-python",
   "name": "python",
   "nbconvert_exporter": "python",
   "pygments_lexer": "ipython3",
   "version": "3.7.12"
  }
 },
 "nbformat": 4,
 "nbformat_minor": 5
}
